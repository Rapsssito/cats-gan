{
  "cells": [
    {
      "cell_type": "markdown",
      "source": [
        "# CATS - Deep Convolutional Generative Adversarial Network"
      ],
      "metadata": {
        "id": "rF2x3qooyBTI"
      }
    },
    {
      "cell_type": "code",
      "execution_count": null,
      "source": [
        "import tensorflow as tf"
      ],
      "outputs": [],
      "metadata": {
        "id": "WZKbyU2-AiY-"
      }
    },
    {
      "cell_type": "code",
      "execution_count": null,
      "source": [
        "# To generate GIFs\r\n",
        "# !pip install imageio\r\n",
        "# !pip install git+https://github.com/tensorflow/docs"
      ],
      "outputs": [],
      "metadata": {
        "id": "YzTlj4YdCip_"
      }
    },
    {
      "cell_type": "code",
      "execution_count": null,
      "source": [
        "import glob\r\n",
        "import imageio\r\n",
        "import matplotlib.pyplot as plt\r\n",
        "import numpy as np\r\n",
        "import os\r\n",
        "import PIL\r\n",
        "from tensorflow.keras import layers\r\n",
        "import time\r\n",
        "\r\n",
        "from IPython import display"
      ],
      "outputs": [],
      "metadata": {
        "id": "YfIk2es3hJEd"
      }
    },
    {
      "cell_type": "code",
      "execution_count": null,
      "source": [
        "BATCH_SIZE = 256\r\n",
        "NOISE_DIM = 50\r\n",
        "\r\n",
        "IMG_SIZE = 64"
      ],
      "outputs": [],
      "metadata": {}
    },
    {
      "cell_type": "markdown",
      "source": [
        "## Creating the models"
      ],
      "metadata": {}
    },
    {
      "cell_type": "code",
      "execution_count": null,
      "source": [
        "list_ds = tf.data.Dataset.list_files('./cat_faces_dataset/*.png')\r\n",
        "\r\n",
        "cat_ds = list_ds.map(lambda x: tf.image.decode_jpeg(tf.io.read_file(x)))\r\n",
        "\r\n",
        "for i in cat_ds:\r\n",
        "    plt.imshow(i)\r\n",
        "    break"
      ],
      "outputs": [],
      "metadata": {}
    },
    {
      "cell_type": "code",
      "execution_count": null,
      "source": [
        "def configure_for_performance(ds):\r\n",
        "    ds = ds.map(lambda x: tf.image.resize(x, (IMG_SIZE, IMG_SIZE))/255)\r\n",
        "    ds = ds.cache()\r\n",
        "    ds = ds.shuffle(buffer_size=1000)\r\n",
        "    ds = ds.batch(BATCH_SIZE)\r\n",
        "    ds = ds.prefetch(tf.data.AUTOTUNE)\r\n",
        "    return ds\r\n",
        "\r\n",
        "train_ds = cat_ds\r\n",
        "train_ds = configure_for_performance(train_ds)\r\n",
        "\r\n",
        "for i in train_ds:\r\n",
        "    plt.imshow(i[0])\r\n",
        "    break"
      ],
      "outputs": [],
      "metadata": {}
    },
    {
      "cell_type": "markdown",
      "source": [
        "## Creating the models"
      ],
      "metadata": {}
    },
    {
      "cell_type": "code",
      "execution_count": null,
      "source": [
        "FILTER_COUNT = 16\r\n",
        "IN_LAYER_COUNT = 6\r\n",
        "\r\n",
        "\r\n",
        "def make_generator_model():\r\n",
        "    model = tf.keras.Sequential()\r\n",
        "    model.add(layers.Dense(\r\n",
        "        (IMG_SIZE//(2**IN_LAYER_COUNT))*(IMG_SIZE//(2**IN_LAYER_COUNT))*NOISE_DIM, use_bias=False, input_shape=(NOISE_DIM,)))\r\n",
        "    model.add(layers.BatchNormalization())\r\n",
        "    model.add(layers.LeakyReLU())\r\n",
        "\r\n",
        "    model.add(layers.Reshape((IMG_SIZE//(2**IN_LAYER_COUNT),\r\n",
        "              IMG_SIZE//(2**IN_LAYER_COUNT), NOISE_DIM)))\r\n",
        "\r\n",
        "    for i in range(IN_LAYER_COUNT):\r\n",
        "        model.add(layers.Conv2DTranspose(FILTER_COUNT*2**(IN_LAYER_COUNT-i-1),\r\n",
        "                  (6, 6), strides=(2, 2), padding='same', use_bias=False))\r\n",
        "        model.add(layers.BatchNormalization())\r\n",
        "        model.add(layers.LeakyReLU())\r\n",
        "\r\n",
        "    model.add(layers.Conv2DTranspose(3, (6, 6), strides=(1, 1),\r\n",
        "                                     padding='same', use_bias=False, activation='sigmoid'))\r\n",
        "    assert model.output_shape == (None, IMG_SIZE, IMG_SIZE, 3)\r\n",
        "\r\n",
        "    return model\r\n"
      ],
      "outputs": [],
      "metadata": {
        "id": "6bpTcDqoLWjY"
      }
    },
    {
      "cell_type": "code",
      "execution_count": null,
      "source": [
        "generator = make_generator_model()\r\n",
        "\r\n",
        "noise = tf.random.normal([1, NOISE_DIM])\r\n",
        "generated_image = generator(noise, training=False)\r\n",
        "generator.summary()\r\n",
        "\r\n",
        "plt.imshow(generated_image[0, :, :, :])\r\n",
        "# generated_image[0, :, :, :]"
      ],
      "outputs": [],
      "metadata": {
        "id": "gl7jcC7TdPTG"
      }
    },
    {
      "cell_type": "code",
      "execution_count": null,
      "source": [
        "DISC_FILTER_COUNT = FILTER_COUNT\r\n",
        "def make_discriminator_model():\r\n",
        "    model = tf.keras.Sequential()\r\n",
        "    model.add(layers.Conv2D(DISC_FILTER_COUNT, (6, 6), strides=(2, 2), padding='same',\r\n",
        "                                     input_shape=[IMG_SIZE, IMG_SIZE, 3]))\r\n",
        "    model.add(layers.LeakyReLU())\r\n",
        "    model.add(layers.Dropout(0.3))\r\n",
        "\r\n",
        "    for i in range(1, IN_LAYER_COUNT):\r\n",
        "        model.add(layers.Conv2D(DISC_FILTER_COUNT*(2**i), (6, 6), strides=(2, 2), padding='same'))\r\n",
        "        model.add(layers.LeakyReLU())\r\n",
        "        model.add(layers.Dropout(0.3))\r\n",
        "\r\n",
        "    model.add(layers.Flatten())\r\n",
        "    model.add(layers.Dense(1,activation='sigmoid'))\r\n",
        "\r\n",
        "    return model"
      ],
      "outputs": [],
      "metadata": {
        "id": "dw2tPLmk2pEP"
      }
    },
    {
      "cell_type": "code",
      "execution_count": null,
      "source": [
        "discriminator = make_discriminator_model()\r\n",
        "decision = discriminator(generated_image)\r\n",
        "discriminator.summary()\r\n",
        "\r\n",
        "print (decision)"
      ],
      "outputs": [],
      "metadata": {
        "id": "gDkA05NE6QMs"
      }
    },
    {
      "cell_type": "code",
      "execution_count": null,
      "source": [
        "# This method returns a helper function to compute cross entropy loss\r\n",
        "cross_entropy = tf.keras.losses.BinaryCrossentropy()"
      ],
      "outputs": [],
      "metadata": {
        "id": "psQfmXxYKU3X"
      }
    },
    {
      "cell_type": "markdown",
      "source": [
        "### Discriminator loss\r\n",
        "\r\n",
        "This method quantifies how well the discriminator is able to distinguish real images from fakes. It compares the discriminator's predictions on real images to an array of 1s, and the discriminator's predictions on fake (generated) images to an array of 0s."
      ],
      "metadata": {
        "id": "PKY_iPSPNWoj"
      }
    },
    {
      "cell_type": "code",
      "execution_count": null,
      "source": [
        "def discriminator_loss(real_output, fake_output):\r\n",
        "    real_loss = cross_entropy(tf.ones_like(real_output), real_output)\r\n",
        "    fake_loss = cross_entropy(tf.zeros_like(fake_output), fake_output)\r\n",
        "    total_loss = real_loss + fake_loss\r\n",
        "    return total_loss"
      ],
      "outputs": [],
      "metadata": {
        "id": "wkMNfBWlT-PV"
      }
    },
    {
      "cell_type": "markdown",
      "source": [
        "### Generator loss\n",
        "The generator's loss quantifies how well it was able to trick the discriminator. Intuitively, if the generator is performing well, the discriminator will classify the fake images as real (or 1). Here, compare the discriminators decisions on the generated images to an array of 1s."
      ],
      "metadata": {
        "id": "Jd-3GCUEiKtv"
      }
    },
    {
      "cell_type": "code",
      "execution_count": null,
      "source": [
        "def generator_loss(fake_output):\r\n",
        "    return cross_entropy(tf.ones_like(fake_output), fake_output)"
      ],
      "outputs": [],
      "metadata": {
        "id": "90BIcCKcDMxz"
      }
    },
    {
      "cell_type": "markdown",
      "source": [
        "The discriminator and the generator optimizers are different since you will train two networks separately."
      ],
      "metadata": {
        "id": "MgIc7i0th_Iu"
      }
    },
    {
      "cell_type": "code",
      "execution_count": null,
      "source": [
        "generator_optimizer = tf.keras.optimizers.Adam(1e-4)\r\n",
        "discriminator_optimizer = tf.keras.optimizers.Adam(1e-4)"
      ],
      "outputs": [],
      "metadata": {
        "id": "iWCn_PVdEJZ7"
      }
    },
    {
      "cell_type": "markdown",
      "source": [
        "### Saving checkpoints"
      ],
      "metadata": {
        "id": "mWtinsGDPJlV"
      }
    },
    {
      "cell_type": "code",
      "execution_count": null,
      "source": [
        "checkpoint_dir = './models'\r\n",
        "checkpoint_prefix = os.path.join(checkpoint_dir, \"ckpt\")\r\n",
        "checkpoint = tf.train.Checkpoint(generator_optimizer=generator_optimizer,\r\n",
        "                                 discriminator_optimizer=discriminator_optimizer,\r\n",
        "                                 generator=generator,\r\n",
        "                                 discriminator=discriminator)"
      ],
      "outputs": [],
      "metadata": {
        "id": "CA1w-7s2POEy"
      }
    },
    {
      "cell_type": "code",
      "execution_count": null,
      "source": [
        "num_examples_to_generate = 16\r\n",
        "\r\n",
        "seed = tf.random.normal([num_examples_to_generate, NOISE_DIM])"
      ],
      "outputs": [],
      "metadata": {
        "id": "NS2GWywBbAWo"
      }
    },
    {
      "cell_type": "markdown",
      "source": [
        "The training loop begins with generator receiving a random seed as input. That seed is used to produce an image. The discriminator is then used to classify real images (drawn from the training set) and fakes images (produced by the generator). The loss is calculated for each of these models, and the gradients are used to update the generator and discriminator."
      ],
      "metadata": {
        "id": "jylSonrqSWfi"
      }
    },
    {
      "cell_type": "code",
      "execution_count": null,
      "source": [
        "@tf.function\r\n",
        "def train_step(images):\r\n",
        "    noise = tf.random.normal([BATCH_SIZE, NOISE_DIM])\r\n",
        "\r\n",
        "    with tf.GradientTape() as gen_tape, tf.GradientTape() as disc_tape:\r\n",
        "        generated_images = generator(noise, training=True)\r\n",
        "\r\n",
        "        real_output = discriminator(images, training=True)\r\n",
        "        fake_output = discriminator(generated_images, training=True)\r\n",
        "\r\n",
        "        gen_loss = generator_loss(fake_output)\r\n",
        "        disc_loss = discriminator_loss(real_output, fake_output)\r\n",
        "\r\n",
        "    gradients_of_generator = gen_tape.gradient(\r\n",
        "        gen_loss, generator.trainable_variables)\r\n",
        "    gradients_of_discriminator = disc_tape.gradient(\r\n",
        "        disc_loss, discriminator.trainable_variables)\r\n",
        "\r\n",
        "    generator_optimizer.apply_gradients(\r\n",
        "        zip(gradients_of_generator, generator.trainable_variables))\r\n",
        "    discriminator_optimizer.apply_gradients(\r\n",
        "        zip(gradients_of_discriminator, discriminator.trainable_variables))\r\n",
        "\r\n",
        "    return (gen_loss, disc_loss)\r\n",
        "\r\n",
        "\r\n",
        "def train(dataset, epochs):\r\n",
        "    gen_losses = []\r\n",
        "    disc_losses = []\r\n",
        "\r\n",
        "    for epoch in range(epochs):\r\n",
        "        start = time.time()\r\n",
        "        gen_loss = disc_loss = batch_count = 0\r\n",
        "\r\n",
        "        for image_batch in dataset:\r\n",
        "            (step_gen_loss, step_disc_loss) = train_step(image_batch)\r\n",
        "            gen_loss += step_gen_loss\r\n",
        "            disc_loss += step_disc_loss\r\n",
        "            batch_count += 1\r\n",
        "\r\n",
        "        # Save each epoch loss during training\r\n",
        "        gen_losses.append(gen_loss/batch_count)\r\n",
        "        disc_losses.append(disc_loss/batch_count)\r\n",
        "\r\n",
        "        display.clear_output(wait=True)\r\n",
        "        plot_losses(gen_losses, disc_losses)\r\n",
        "\r\n",
        "        # Produce images for the GIF as you go\r\n",
        "        generate_and_save_images(generator,\r\n",
        "                                 epoch + 1,\r\n",
        "                                 seed, epoch % 25 == 0)\r\n",
        "\r\n",
        "        # Save the model every 15 epochs\r\n",
        "        if (epoch + 1) % 50 == 0:\r\n",
        "            checkpoint.save(file_prefix=checkpoint_prefix)\r\n",
        "\r\n",
        "        print('Time for epoch {} is {} sec'.format(\r\n",
        "            epoch + 1, time.time()-start))"
      ],
      "outputs": [],
      "metadata": {
        "id": "2M7LmLtGEMQJ"
      }
    },
    {
      "cell_type": "code",
      "execution_count": null,
      "source": [
        "def plot_losses(gen_losses, disc_losses):\r\n",
        "    plt.plot(gen_losses, label='Generator')\r\n",
        "    plt.plot(disc_losses, label='Discriminator')\r\n",
        "    plt.legend()\r\n",
        "    plt.show()\r\n",
        "\r\n",
        "\r\n",
        "def generate_and_save_images(model, epoch, test_input, save=False):\r\n",
        "    predictions = model(test_input, training=False)\r\n",
        "\r\n",
        "    fig = plt.figure(figsize=(4, 4))\r\n",
        "\r\n",
        "    for i in range(predictions.shape[0]):\r\n",
        "        plt.subplot(4, 4, i+1)\r\n",
        "        plt.imshow(predictions[i, :, :, :])\r\n",
        "        plt.axis('off')\r\n",
        "    if save:\r\n",
        "        plt.savefig('generated/image_at_epoch_{:04d}.png'.format(epoch))\r\n",
        "    plt.show()\r\n"
      ],
      "outputs": [],
      "metadata": {
        "id": "RmdVsmvhPxyy"
      }
    },
    {
      "cell_type": "markdown",
      "source": [
        "## Training"
      ],
      "metadata": {
        "id": "dZrd4CdjR-Fp"
      }
    },
    {
      "cell_type": "code",
      "execution_count": null,
      "source": [
        "train(train_ds, 1)"
      ],
      "outputs": [],
      "metadata": {
        "id": "Ly3UN0SLLY2l"
      }
    },
    {
      "cell_type": "markdown",
      "source": [
        "Restore the latest checkpoint."
      ],
      "metadata": {
        "id": "rfM4YcPVPkNO"
      }
    },
    {
      "cell_type": "code",
      "execution_count": null,
      "source": [
        "checkpoint.restore(tf.train.latest_checkpoint(checkpoint_dir))"
      ],
      "outputs": [],
      "metadata": {
        "id": "XhXsd0srPo8c"
      }
    },
    {
      "cell_type": "markdown",
      "source": [
        "## Creating a GIF\r\n"
      ],
      "metadata": {
        "id": "P4M_vIbUi7c0"
      }
    },
    {
      "cell_type": "code",
      "execution_count": null,
      "source": [
        "noise = tf.random.normal([1, NOISE_DIM])\r\n",
        "generated_image = generator(noise, training=False)\r\n",
        "decision = discriminator(generated_image, training=False)\r\n",
        "\r\n",
        "print(decision)\r\n",
        "plt.imshow(generated_image[0, :, :, :])\r\n",
        "plt.savefig('generated/image_test.png')\r\n"
      ],
      "outputs": [],
      "metadata": {}
    },
    {
      "cell_type": "code",
      "execution_count": null,
      "source": [
        "# Display a single image using the epoch number\r\n",
        "def display_image(epoch_no):\r\n",
        "  return PIL.Image.open('generated/image_at_epoch_{:04d}.png'.format(epoch_no))"
      ],
      "outputs": [],
      "metadata": {
        "id": "WfO5wCdclHGL"
      }
    },
    {
      "cell_type": "code",
      "execution_count": null,
      "source": [
        "display_image(4301)"
      ],
      "outputs": [],
      "metadata": {
        "id": "5x3q9_Oe5q0A"
      }
    },
    {
      "cell_type": "markdown",
      "source": [
        "Using `imageio` we create an animated gif using the images saved during training."
      ],
      "metadata": {
        "id": "NywiH3nL8guF"
      }
    },
    {
      "cell_type": "code",
      "execution_count": null,
      "source": [
        "anim_file = 'generated/cats_gan.gif'\r\n",
        "\r\n",
        "with imageio.get_writer(anim_file, mode='I') as writer:\r\n",
        "  filenames = glob.glob('generated/image_at*.png')\r\n",
        "  filenames = sorted(filenames)\r\n",
        "  for filename in filenames:\r\n",
        "    image = imageio.imread(filename)\r\n",
        "    writer.append_data(image)\r\n",
        "  image = imageio.imread(filename)\r\n",
        "  writer.append_data(image)"
      ],
      "outputs": [],
      "metadata": {
        "id": "IGKQgENQ8lEI"
      }
    },
    {
      "cell_type": "code",
      "execution_count": null,
      "source": [
        "import tensorflow_docs.vis.embed as embed\r\n",
        "embed.embed_file(anim_file)"
      ],
      "outputs": [],
      "metadata": {
        "id": "ZBwyU6t2Wf3g"
      }
    },
    {
      "cell_type": "code",
      "execution_count": null,
      "source": [],
      "outputs": [],
      "metadata": {}
    }
  ],
  "metadata": {
    "accelerator": "GPU",
    "colab": {
      "collapsed_sections": [],
      "name": "dcgan.ipynb",
      "toc_visible": true
    },
    "interpreter": {
      "hash": "2f566aa225148740d66d7bffa8fbb341b94ef6f9f805c9c9e52b474a3635c9a1"
    },
    "kernelspec": {
      "name": "python3",
      "display_name": "Python 3.9.2 64-bit"
    },
    "language_info": {
      "codemirror_mode": {
        "name": "ipython",
        "version": 3
      },
      "file_extension": ".py",
      "mimetype": "text/x-python",
      "name": "python",
      "nbconvert_exporter": "python",
      "pygments_lexer": "ipython3",
      "version": "3.9.2"
    }
  },
  "nbformat": 4,
  "nbformat_minor": 2
}